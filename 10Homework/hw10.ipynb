{
 "cells": [
  {
   "cell_type": "markdown",
   "metadata": {},
   "source": [
    "# Homework Set 10\n"
   ]
  },
  {
   "cell_type": "markdown",
   "metadata": {},
   "source": [
    "## Problem 1(Naive Bayes)\n",
    "\n",
    "P(Purchase) = 9/14\n",
    "P(not Purchase) = 5/14\n",
    "\n",
    "P(Purchase | Age <= 30, Income = medium, Student = yes, Credit rating = Fair) = <br>\n",
    "    P(Purchase) P(Age <= 30 | Purchase) P(Income = medium | Purchase) P(Student = yes | Purchase) P(Credit rating = Fair | Purchase) = <br>\n",
    "    **9/14 * 2/9 * 4/9 * 6/9 * 6/9 = 0.0282186949**<br>\n",
    "\n",
    "P(not Purchase | Age <= 30, Income = medium, Student = yes, Credit rating = Fair) = <br>\n",
    "    P(not Purchase) P(Age <= 30 | not Purchase) P(Income = medium | not Purchase) P(Student = yes | not Purchase) P(Credit rating = Fair | not Purchase) = <br>\n",
    "    **5/14 * 3/5 * 2/5 * 1/5 * 2/5 = 0.0068571429** <br>\n",
    "\n",
    "P(Purchase) = **0.0282186949/(0.0068571429 + 0.0282186949) = 0.804505228382599**<br>\n",
    "P(not Purchase) = **0.0068571429/(0.0068571429 + 0.0282186949) = 0.19549477161740095**<br>\n",
    "\n",
    "\n",
    "Since P(Purchase) > P(not Purchase), <br>\n",
    "**the person will but a computer.**\n"
   ]
  },
  {
   "cell_type": "markdown",
   "metadata": {},
   "source": [
    "## Problem 2 (k-nearest neighbor)\n"
   ]
  },
  {
   "cell_type": "code",
   "execution_count": 1,
   "metadata": {},
   "outputs": [],
   "source": [
    "from sklearn.neighbors import KNeighborsClassifier\n",
    "import numpy as np\n",
    "import matplotlib.pyplot as plt"
   ]
  },
  {
   "cell_type": "code",
   "execution_count": 36,
   "metadata": {},
   "outputs": [],
   "source": [
    "def find_decision_boundary(X, Y):\n",
    "    x1 = X[0]\n",
    "    x2 = X[1]\n",
    "    y1 = Y[0]\n",
    "    y2 = Y[1]\n",
    "    # Calculate the slope (m)\n",
    "    m = (y2 - y1) / (x2 - x1)\n",
    "\n",
    "    # Calculate the y-intercept (b)\n",
    "    b = y1 - m * x1\n",
    "    print(f'y = {m}x + {b}')\n",
    "    return m, b\n",
    "    \n",
    "    \n",
    "def is_distance_e(pt, type):\n",
    "    pts_type = np.array([[1, 1], [3, 3], [4, 2]])\n",
    "    if type == 12:\n",
    "        pt_1 = pts_type[0]\n",
    "        pt_2 = pts_type[1]\n",
    "    elif type == 13:\n",
    "        pt_1 = pts_type[0]\n",
    "        pt_2 = pts_type[2]\n",
    "    elif type == 23:\n",
    "        pt_1 = pts_type[1]\n",
    "        pt_2 = pts_type[2]\n",
    "    d1 = np.linalg.norm(pt - pt_1)\n",
    "    d2 = np.linalg.norm(pt - pt_2)\n",
    "    if d1 == d2:\n",
    "        return True\n",
    "\n",
    "def find_vertical_line_equation(point1, point2):\n",
    "    x1, y1 = point1\n",
    "    x2, y2 = point2\n",
    "    xm, ym = (point1 + point2)/2\n",
    "    \n",
    "    # Calculate the slope of the line between the two points\n",
    "    slope = (y2 - y1) / (x2 - x1)\n",
    "    \n",
    "    # Calculate the slope of the perpendicular line\n",
    "    perpendicular_slope = -1 / slope\n",
    "    \n",
    "    # Calculate the y-intercept of the perpendicular line\n",
    "    # We can use either point1 or point2 to calculate the y-intercept\n",
    "    # Let's use point1\n",
    "    y_intercept = ym - perpendicular_slope * xm\n",
    "    print(f\"y = {perpendicular_slope}x + {y_intercept}\")\n",
    "    # Return the equation of the perpendicular line in the form y = mx + b\n",
    "    return perpendicular_slope, y_intercept\n",
    "\n",
    "\n",
    "    "
   ]
  },
  {
   "cell_type": "code",
   "execution_count": 33,
   "metadata": {},
   "outputs": [
    {
     "name": "stdout",
     "output_type": "stream",
     "text": [
      "y = -1.0x + 4.0\n",
      "(-1.0, 4.0)\n",
      "y = 1.0x + -1.0\n",
      "(1.0, -1.0)\n",
      "y = -3.0x + 9.0\n",
      "(-3.0, 9.0)\n"
     ]
    }
   ],
   "source": []
  },
  {
   "cell_type": "code",
   "execution_count": 40,
   "metadata": {},
   "outputs": [
    {
     "name": "stdout",
     "output_type": "stream",
     "text": [
      "y = -1.0x + 4.0\n",
      "y = 1.0x + -1.0\n",
      "y = -3.0x + 9.0\n",
      "[array([ 4.        ,  3.99833333,  3.99666667, ..., -0.99666667,\n",
      "       -0.99833333, -1.        ]), array([-1.        , -0.99833333, -0.99666667, ...,  3.99666667,\n",
      "        3.99833333,  4.        ]), array([ 9.   ,  8.995,  8.99 , ..., -5.99 , -5.995, -6.   ])]\n"
     ]
    }
   ],
   "source": [
    "x_test = np.linspace(0, 5, 3001)\n",
    "\n",
    "pts = np.array([[1, 1], [3, 3], [4, 2]])\n",
    "y_test = []\n",
    "for i in range(3):\n",
    "    m, b = find_vertical_line_equation(pts[i], pts[(i+1)%3])\n",
    "    y = m*x_test + b\n",
    "    y_test.append(y)\n",
    "print(y_test)\n",
    "\n",
    "m1, b1 = find_vertical_line_equation(pts[0], pts[1])\n",
    "m2, b2 = find_vertical_line_equation(pts[0], pts[2])\n",
    "x_int = (b1 - b2)/(m2 - m1)\n",
    "y_int = m1*x_int + b1\n",
    "\n",
    "\n",
    "\n",
    "# find_decision_boundary(intercept_12[0], intercept_12[1])     \n"
   ]
  },
  {
   "cell_type": "code",
   "execution_count": 48,
   "metadata": {},
   "outputs": [
    {
     "data": {
      "image/png": "[encoded data removed]",
      "text/plain": [
       "<Figure size 500x400 with 1 Axes>"
      ]
     },
     "metadata": {},
     "output_type": "display_data"
    }
   ],
   "source": [
    "\n",
    "\n",
    "\n",
    "# Define the training data\n",
    "X_train = np.array([[1, 1], [3, 3], [4, 2]])\n",
    "y_train = np.array([1, 2, 3])\n",
    "\n",
    "# Create the 1-nearest neighbor classifier\n",
    "knn = KNeighborsClassifier(n_neighbors=1)\n",
    "\n",
    "# Fit the classifier to the training data\n",
    "knn.fit(X_train, y_train)\n",
    "\n",
    "# Define the test data\n",
    "X_test = np.array([[2, 2]])\n",
    "\n",
    "# Predict the class labels for the test data\n",
    "y_pred = knn.predict(X_test)\n",
    "\n",
    "# Plot the decision boundary\n",
    "h = 0.02  # step size in the mesh\n",
    "x_min, x_max = X_train[:, 0].min() - 1, X_train[:, 0].max() + 1\n",
    "y_min, y_max = X_train[:, 1].min() - 1, X_train[:, 1].max() + 1\n",
    "xx, yy = np.meshgrid(np.arange(x_min, x_max, h), np.arange(y_min, y_max, h))\n",
    "Z = knn.predict(np.c_[xx.ravel(), yy.ravel()])\n",
    "\n",
    "\n",
    "# Put the result into a color plot\n",
    "Z = Z.reshape(xx.shape)\n",
    "plt.figure(figsize=(5, 4))\n",
    "plt.contourf(xx, yy, Z, alpha=0.8)\n",
    "\n",
    "# Plot the training points\n",
    "plt.scatter(X_train[:, 0], X_train[:, 1], c=y_train, cmap=plt.cm.Set1, edgecolor='k')\n",
    "# plt.scatter(X_test[:, 0], X_test[:, 1], c='r', marker='x', label='Test Data')\n",
    "# plt.plot(x_test, y_test[0], 'k', ls='dotted', lw=1, label='y = -1.0x + 4.0')\n",
    "# plt.plot(x_test, y_test[1], 'k', ls='dotted', lw=1, label='y = 1.0x + -1.0')\n",
    "# plt.plot(x_test, y_test[2], 'k', ls='dotted', lw=1, label='y = -3.0x + 9.0')\n",
    "plt.text(2.7, -3 * 2.7 + 9, 'y = -3.0x + 9.0', ha='left', va='bottom')\n",
    "plt.text(3.3, 1.0 * 3.3 + -1, 'y = 1.0x + -1.0', ha='left', va='bottom')\n",
    "plt.text(1, -1.0 * 1 + 4, 'y = -1.0x + 4.0', ha='left', va='bottom')\n",
    "plt.xlabel(r'$x_1$', fontsize=14)\n",
    "plt.ylabel(r'$x_2$', fontsize=14)\n",
    "plt.title('1-Nearest Neighbor Decision Boundary')\n",
    "for i, label in enumerate(y_train):\n",
    "    plt.text(X_train[i, 0], X_train[i, 1], str(label), ha='left', va='bottom')\n",
    "# plt.legend()\n",
    "plt.axis([x_min, x_max, y_min, y_max])\n",
    "plt.tight_layout()\n",
    "plt.savefig('decision_boundary.png', dpi=300)\n",
    "plt.show()\n",
    "\n",
    "\n"
   ]
  }
 ],
 "metadata": {
  "kernelspec": {
   "display_name": "ML2-wheWIX6u",
   "language": "python",
   "name": "python3"
  },
  "language_info": {
   "codemirror_mode": {
    "name": "ipython",
    "version": 3
   },
   "file_extension": ".py",
   "mimetype": "text/x-python",
   "name": "python",
   "nbconvert_exporter": "python",
   "pygments_lexer": "ipython3",
   "version": "3.8.10"
  }
 },
 "nbformat": 4,
 "nbformat_minor": 2
}
