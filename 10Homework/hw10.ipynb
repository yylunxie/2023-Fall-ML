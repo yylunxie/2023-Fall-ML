{
 "cells": [
  {
   "cell_type": "markdown",
   "metadata": {},
   "source": [
    "# Homework Set 10\n"
   ]
  },
  {
   "cell_type": "markdown",
   "metadata": {},
   "source": [
    "## Problem 1(Naive Bayes)\n",
    "\n",
    "P(Purchase) = 9/14\n",
    "P(not Purchase) = 5/14\n",
    "\n",
    "P(Purchase | Age <= 30, Income = medium, Student = yes, Credit rating = Fair) = <br>\n",
    "    P(Purchase) P(Age <= 30 | Purchase) P(Income = medium | Purchase) P(Student = yes | Purchase) P(Credit rating = Fair | Purchase) = <br>\n",
    "    **9/14 * 2/9 * 4/9 * 6/9 * 6/9 = 0.0282186949**<br>\n",
    "\n",
    "P(not Purchase | Age <= 30, Income = medium, Student = yes, Credit rating = Fair) = <br>\n",
    "    P(not Purchase) P(Age <= 30 | not Purchase) P(Income = medium | not Purchase) P(Student = yes | not Purchase) P(Credit rating = Fair | not Purchase) = <br>\n",
    "    **5/14 * 3/5 * 2/5 * 1/5 * 2/5 = 0.0068571429** <br>\n",
    "\n",
    "P(Purchase) = **0.0282186949/(0.0068571429 + 0.0282186949) = 0.804505228382599**<br>\n",
    "P(not Purchase) = **0.0068571429/(0.0068571429 + 0.0282186949) = 0.19549477161740095**<br>\n",
    "\n",
    "\n",
    "Since P(Purchase) > P(not Purchase), <br>\n",
    "**the person will but a computer.**\n"
   ]
  },
  {
   "cell_type": "markdown",
   "metadata": {},
   "source": [
    "## Problem 2 (k-nearest neighbor)\n"
   ]
  },
  {
   "cell_type": "code",
   "execution_count": 18,
   "metadata": {},
   "outputs": [],
   "source": [
    "from sklearn.neighbors import KNeighborsClassifier\n",
    "import numpy as np\n",
    "import matplotlib.pyplot as plt"
   ]
  },
  {
   "cell_type": "code",
   "execution_count": null,
   "metadata": {},
   "outputs": [],
   "source": [
    "def find_decision_boundary(X, Y):\n",
    "    x1 = X[0]\n",
    "    x2 = X[1]\n",
    "    y1 = Y[0]\n",
    "    y2 = Y[1]\n",
    "    # Calculate the slope (m)\n",
    "    m = (y2 - y1) / (x2 - x1)\n",
    "\n",
    "    # Calculate the y-intercept (b)\n",
    "    b = y1 - m * x1\n",
    "    \n",
    "    "
   ]
  },
  {
   "cell_type": "code",
   "execution_count": 28,
   "metadata": {},
   "outputs": [
    {
     "data": {
      "image/png": "[encoded data removed]",
      "text/plain": [
       "<Figure size 500x400 with 1 Axes>"
      ]
     },
     "metadata": {},
     "output_type": "display_data"
    }
   ],
   "source": [
    "\n",
    "\n",
    "\n",
    "# Define the training data\n",
    "X_train = np.array([[1, 1], [3, 3], [4, 2]])\n",
    "y_train = np.array([1, 2, 3])\n",
    "\n",
    "# Create the 1-nearest neighbor classifier\n",
    "knn = KNeighborsClassifier(n_neighbors=1)\n",
    "\n",
    "# Fit the classifier to the training data\n",
    "knn.fit(X_train, y_train)\n",
    "\n",
    "# Define the test data\n",
    "X_test = np.array([[2, 2]])\n",
    "\n",
    "# Predict the class labels for the test data\n",
    "y_pred = knn.predict(X_test)\n",
    "\n",
    "# Plot the decision boundary\n",
    "h = 0.02  # step size in the mesh\n",
    "x_min, x_max = X_train[:, 0].min() - 1, X_train[:, 0].max() + 1\n",
    "y_min, y_max = X_train[:, 1].min() - 1, X_train[:, 1].max() + 1\n",
    "xx, yy = np.meshgrid(np.arange(x_min, x_max, h), np.arange(y_min, y_max, h))\n",
    "Z = knn.predict(np.c_[xx.ravel(), yy.ravel()])\n",
    "\n",
    "\n",
    "# Put the result into a color plot\n",
    "Z = Z.reshape(xx.shape)\n",
    "plt.figure(figsize=(5, 4))\n",
    "plt.contourf(xx, yy, Z, alpha=0.8)\n",
    "\n",
    "# Plot the training points\n",
    "plt.scatter(X_train[:, 0], X_train[:, 1], c=y_train, cmap=plt.cm.Set1, edgecolor='k')\n",
    "# plt.scatter(X_test[:, 0], X_test[:, 1], c='r', marker='x', label='Test Data')\n",
    "plt.xlabel(r'$x_1$', fontsize=14)\n",
    "plt.ylabel(r'$x_2$', fontsize=14)\n",
    "plt.title('1-Nearest Neighbor Decision Boundary')\n",
    "for i, label in enumerate(y_train):\n",
    "    plt.text(X_train[i, 0], X_train[i, 1], str(label), ha='left', va='bottom')\n",
    "# plt.legend()\n",
    "plt.axis([x_min, x_max, y_min, y_max])\n",
    "plt.tight_layout()\n",
    "plt.savefig('decision_boundary.png', dpi=300)\n",
    "plt.show()\n",
    "\n",
    "\n"
   ]
  }
 ],
 "metadata": {
  "kernelspec": {
   "display_name": "ml",
   "language": "python",
   "name": "ml"
  },
  "language_info": {
   "codemirror_mode": {
    "name": "ipython",
    "version": 3
   },
   "file_extension": ".py",
   "mimetype": "text/x-python",
   "name": "python",
   "nbconvert_exporter": "python",
   "pygments_lexer": "ipython3",
   "version": "3.8.10"
  }
 },
 "nbformat": 4,
 "nbformat_minor": 2
}
