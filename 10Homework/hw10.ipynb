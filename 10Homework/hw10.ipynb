{
 "cells": [
  {
   "cell_type": "markdown",
   "metadata": {},
   "source": [
    "# Homework Set 10\n"
   ]
  },
  {
   "cell_type": "markdown",
   "metadata": {},
   "source": [
    "## Problem 1(Naive Bayes)\n",
    "\n",
    "P(Purchase) = 9/14\n",
    "P(not Purchase) = 5/14\n",
    "\n",
    "P(Purchase | Age <= 30, Income = medium, Student = yes, Credit rating = Fair) = <br>\n",
    "    P(Purchase) P(Age <= 30 | Purchase) P(Income = medium | Purchase) P(Student = yes | Purchase) P(Credit rating = Fair | Purchase) = <br>\n",
    "    **9/14 * 2/9 * 4/9 * 6/9 * 6/9 = 0.0282186949**<br>\n",
    "\n",
    "P(not Purchase | Age <= 30, Income = medium, Student = yes, Credit rating = Fair) = <br>\n",
    "    P(not Purchase) P(Age <= 30 | not Purchase) P(Income = medium | not Purchase) P(Student = yes | not Purchase) P(Credit rating = Fair | not Purchase) = <br>\n",
    "    **5/14 * 3/5 * 2/5 * 1/5 * 2/5 = 0.0068571429** <br>\n",
    "\n",
    "P(Purchase) = **0.0282186949/(0.0068571429 + 0.0282186949) = 0.804505228382599**<br>\n",
    "P(not Purchase) = **0.0068571429/(0.0068571429 + 0.0282186949) = 0.19549477161740095**<br>\n",
    "\n",
    "\n",
    "Since P(Purchase) > P(not Purchase), <br>\n",
    "**the person will but a computer.**\n"
   ]
  },
  {
   "cell_type": "markdown",
   "metadata": {},
   "source": [
    "## Problem 2 (k-nearest neighbor)\n"
   ]
  },
  {
   "cell_type": "markdown",
   "metadata": {},
   "source": [
    "### (a) Euclidean distance"
   ]
  },
  {
   "cell_type": "code",
   "execution_count": 1,
   "metadata": {},
   "outputs": [],
   "source": [
    "from sklearn.neighbors import KNeighborsClassifier\n",
    "import numpy as np\n",
    "import matplotlib.pyplot as plt"
   ]
  },
  {
   "cell_type": "code",
   "execution_count": 55,
   "metadata": {},
   "outputs": [],
   "source": [
    "def custom_distance(x, y):\n",
    "    distance = np.sqrt(((x[0] - y[0])**2)*0.5 + (x[1] - y[1])**2)\n",
    "    return distance\n",
    "    \n",
    "\n",
    "def find_line_equation(point1, point2):\n",
    "    x1, y1 = point1\n",
    "    x2, y2 = point2\n",
    "    \n",
    "    # Calculate the slope of the line between the two points\n",
    "    slope = (y2 - y1) / (x2 - x1)\n",
    "    \n",
    "    # Calculate the y-intercept of the line\n",
    "    y_intercept = y1 - slope * x1\n",
    "    \n",
    "    # Return the equation of the line in the form y = mx + b\n",
    "    return slope, y_intercept\n",
    "\n",
    "\n",
    "\n",
    "def find_vertical_line_equation(point1, point2):\n",
    "    x1, y1 = point1\n",
    "    x2, y2 = point2\n",
    "    xm, ym = (point1 + point2)/2\n",
    "    \n",
    "    # Calculate the slope of the line between the two points\n",
    "    slope = (y2 - y1) / (x2 - x1)\n",
    "    \n",
    "    # Calculate the slope of the perpendicular line\n",
    "    perpendicular_slope = -1 / slope\n",
    "    \n",
    "    # Calculate the y-intercept of the perpendicular line\n",
    "    # We can use either point1 or point2 to calculate the y-intercept\n",
    "    # Let's use point1\n",
    "    y_intercept = ym - perpendicular_slope * xm\n",
    "    print(f\"y = {perpendicular_slope}x + {y_intercept}\")\n",
    "    # Return the equation of the perpendicular line in the form y = mx + b\n",
    "    return perpendicular_slope, y_intercept\n",
    "\n",
    "\n",
    "    "
   ]
  },
  {
   "cell_type": "code",
   "execution_count": 50,
   "metadata": {},
   "outputs": [
    {
     "name": "stdout",
     "output_type": "stream",
     "text": [
      "y = -1.0x + 4.0\n",
      "y = 1.0x + -1.0\n",
      "y = -3.0x + 9.0\n",
      "[array([ 4.        ,  3.99833333,  3.99666667, ..., -0.99666667,\n",
      "       -0.99833333, -1.        ]), array([-1.        , -0.99833333, -0.99666667, ...,  3.99666667,\n",
      "        3.99833333,  4.        ]), array([ 9.   ,  8.995,  8.99 , ..., -5.99 , -5.995, -6.   ])]\n",
      "y = -1.0x + 4.0\n",
      "y = -3.0x + 9.0\n"
     ]
    }
   ],
   "source": [
    "x_test = np.linspace(0, 5, 3001)\n",
    "\n",
    "pts = np.array([[1, 1], [3, 3], [4, 2]])\n",
    "y_test = []\n",
    "for i in range(3):\n",
    "    m, b = find_vertical_line_equation(pts[i], pts[(i+1)%3])\n",
    "    y = m*x_test + b\n",
    "    y_test.append(y)\n",
    "print(y_test)\n",
    "\n",
    "m1, b1 = find_vertical_line_equation(pts[0], pts[1])\n",
    "m2, b2 = find_vertical_line_equation(pts[0], pts[2])\n",
    "x_int = (b1 - b2)/(m2 - m1)\n",
    "y_int = m1*x_int + b1\n",
    "\n",
    "\n",
    "\n",
    "# find_decision_boundary(intercept_12[0], intercept_12[1])     \n"
   ]
  },
  {
   "cell_type": "code",
   "execution_count": 51,
   "metadata": {},
   "outputs": [
    {
     "data": {
      "image/png": "[encoded data removed]",
      "text/plain": [
       "<Figure size 500x400 with 1 Axes>"
      ]
     },
     "metadata": {},
     "output_type": "display_data"
    }
   ],
   "source": [
    "# Define the training data\n",
    "X_train = np.array([[1, 1], [3, 3], [4, 2]])\n",
    "y_train = np.array([1, 2, 3])\n",
    "\n",
    "# Create the 1-nearest neighbor classifier\n",
    "knn = KNeighborsClassifier(n_neighbors=1)\n",
    "\n",
    "# Fit the classifier to the training data\n",
    "knn.fit(X_train, y_train)\n",
    "\n",
    "# Define the test data\n",
    "X_test = np.array([[2, 2]])\n",
    "\n",
    "# Predict the class labels for the test data\n",
    "y_pred = knn.predict(X_test)\n",
    "\n",
    "# Plot the decision boundary\n",
    "h = 0.02  # step size in the mesh\n",
    "x_min, x_max = X_train[:, 0].min() - 1, X_train[:, 0].max() + 1\n",
    "y_min, y_max = X_train[:, 1].min() - 1, X_train[:, 1].max() + 1\n",
    "xx, yy = np.meshgrid(np.arange(x_min, x_max, h), np.arange(y_min, y_max, h))\n",
    "Z = knn.predict(np.c_[xx.ravel(), yy.ravel()])\n",
    "\n",
    "\n",
    "# Put the result into a color plot\n",
    "Z = Z.reshape(xx.shape)\n",
    "plt.figure(figsize=(5, 4))\n",
    "plt.contourf(xx, yy, Z, alpha=0.8)\n",
    "\n",
    "# Plot the training points\n",
    "plt.scatter(X_train[:, 0], X_train[:, 1], c=y_train, cmap=plt.cm.Set1, edgecolor='k')\n",
    "plt.text(2.7, -3 * 2.7 + 9, 'y = -3.0x + 9.0', ha='left', va='bottom')\n",
    "plt.text(3.3, 1.0 * 3.3 + -1, 'y = 1.0x + -1.0', ha='left', va='bottom')\n",
    "plt.text(1, -1.0 * 1 + 4, 'y = -1.0x + 4.0', ha='left', va='bottom')\n",
    "plt.xlabel(r'$x_1$', fontsize=14)\n",
    "plt.ylabel(r'$x_2$', fontsize=14)\n",
    "plt.title('1-Nearest Neighbor Decision Boundary')\n",
    "for i, label in enumerate(y_train):\n",
    "    plt.text(X_train[i, 0], X_train[i, 1], str(label), ha='left', va='bottom')\n",
    "plt.axis([x_min, x_max, y_min, y_max])\n",
    "plt.tight_layout()\n",
    "plt.savefig('decision_boundary.png', dpi=300)\n",
    "plt.show()\n",
    "\n",
    "\n"
   ]
  },
  {
   "cell_type": "markdown",
   "metadata": {},
   "source": [
    "### (b) Custom distance"
   ]
  },
  {
   "cell_type": "code",
   "execution_count": 60,
   "metadata": {},
   "outputs": [],
   "source": [
    "def custom_line(type):\n",
    "    pts = np.array([[1, 1], [3, 3], [4, 2]])\n",
    "    if type == 0:\n",
    "        pt1 = pts[0]\n",
    "        pt2 = pts[1]\n",
    "    elif type == 1:\n",
    "        pt1 = pts[0]\n",
    "        pt2 = pts[2]\n",
    "    elif type == 2:\n",
    "        pt1 = pts[1]\n",
    "        pt2 = pts[2]\n",
    "    \n",
    "    xm = (pt1[0] + pt2[0])/2\n",
    "    ym = (pt1[1] + pt2[1])/2\n",
    "    x = 0\n",
    "    a = (np.square(- pt1[0]) - np.square( - pt2[0]))*0.5\n",
    "    y = (a/(pt1[1] - pt2[1]) + pt1[1] + pt2[1])*0.5\n",
    "    \n",
    "    m, b = find_line_equation((x, y), (xm, ym))\n",
    "    print(f\"y = {m}x + {b}\")\n",
    "    return m, b\n",
    "    "
   ]
  },
  {
   "cell_type": "code",
   "execution_count": 70,
   "metadata": {},
   "outputs": [
    {
     "name": "stdout",
     "output_type": "stream",
     "text": [
      "y = -0.5x + 3.0\n",
      "y = -1.5x + 5.25\n",
      "y = 0.5x + 0.75\n",
      "[array([3.        , 2.99916667, 2.99833333, ..., 0.50166667, 0.50083333,\n",
      "       0.5       ]), array([ 5.25  ,  5.2475,  5.245 , ..., -2.245 , -2.2475, -2.25  ]), array([0.75      , 0.75083333, 0.75166667, ..., 3.24833333, 3.24916667,\n",
      "       3.25      ])]\n"
     ]
    },
    {
     "data": {
      "image/png": "[encoded data removed]",
      "text/plain": [
       "<Figure size 500x400 with 1 Axes>"
      ]
     },
     "metadata": {},
     "output_type": "display_data"
    }
   ],
   "source": [
    "\n",
    "x_test = np.linspace(0, 5, 3001)\n",
    "\n",
    "pts = np.array([[1, 1], [3, 3], [4, 2]])\n",
    "\n",
    "y_test_2 = []\n",
    "for i in range(3):\n",
    "    m, b = custom_line(i)\n",
    "    y = m*x_test + b\n",
    "    y_test_2.append(y)\n",
    "print(y_test_2)\n",
    "\n",
    "# Define the training data\n",
    "X_train = np.array([[1, 1], [3, 3], [4, 2]])\n",
    "y_train = np.array([1, 2, 3])\n",
    "\n",
    "# Create the 1-nearest neighbor classifier\n",
    "knn = KNeighborsClassifier(n_neighbors=1, metric=custom_distance)\n",
    "\n",
    "# Fit the classifier to the training data\n",
    "knn.fit(X_train, y_train)\n",
    "\n",
    "# Define the test data\n",
    "X_test = np.array([[2, 2]])\n",
    "\n",
    "# Predict the class labels for the test data\n",
    "y_pred = knn.predict(X_test)\n",
    "\n",
    "# Plot the decision boundary\n",
    "h = 0.02  # step size in the mesh\n",
    "x_min, x_max = X_train[:, 0].min() - 1, X_train[:, 0].max() + 1\n",
    "y_min, y_max = X_train[:, 1].min() - 1, X_train[:, 1].max() + 1\n",
    "xx, yy = np.meshgrid(np.arange(x_min, x_max, h), np.arange(y_min, y_max, h))\n",
    "Z = knn.predict(np.c_[xx.ravel(), yy.ravel()])\n",
    "\n",
    "\n",
    "# Put the result into a color plot\n",
    "Z = Z.reshape(xx.shape)\n",
    "plt.figure(figsize=(5, 4))\n",
    "plt.contourf(xx, yy, Z, alpha=0.8)\n",
    "\n",
    "# Plot the training points\n",
    "plt.scatter(X_train[:, 0], X_train[:, 1], c=y_train, cmap=plt.cm.Set1, edgecolor='k')\n",
    "# plt.plot(x_test, y_test_2[0], 'r')\n",
    "plt.text(1, -0.5 * 1 + 3, 'y = -0.5x + 3.0', ha='left', va='bottom')\n",
    "plt.text(2.8, -1.5 * 2.8 + 5.25, 'y = -1.5x + 5.25', ha='left', va='bottom')\n",
    "plt.text(3.5, 0.5 * 3.5 + 0.75, 'y = 0.5x + 0.75', ha='left', va='bottom')\n",
    "plt.xlabel(r'$x_1$', fontsize=14)\n",
    "plt.ylabel(r'$x_2$', fontsize=14)\n",
    "plt.title('1-Nearest Neighbor Decision Boundary')\n",
    "for i, label in enumerate(y_train):\n",
    "    plt.text(X_train[i, 0], X_train[i, 1], str(label), ha='left', va='bottom')\n",
    "plt.axis([x_min, x_max, y_min, y_max])\n",
    "plt.tight_layout()\n",
    "plt.savefig('decision_boundary_custom.png', dpi=300)\n",
    "plt.show()\n",
    "\n",
    "\n"
   ]
  },
  {
   "cell_type": "markdown",
   "metadata": {},
   "source": [
    "## Problem 3\n",
    "### (a)"
   ]
  },
  {
   "cell_type": "code",
   "execution_count": 73,
   "metadata": {},
   "outputs": [
    {
     "ename": "ValueError",
     "evalue": "Classification metrics can't handle a mix of multiclass-multioutput and multiclass targets",
     "output_type": "error",
     "traceback": [
      "\u001b[0;31m---------------------------------------------------------------------------\u001b[0m",
      "\u001b[0;31mValueError\u001b[0m                                Traceback (most recent call last)",
      "\u001b[1;32m/Users/xieyulun/Documents/note/s2023_1/ML2/10Homework/hw10.ipynb Cell 13\u001b[0m line \u001b[0;36m3\n\u001b[1;32m     <a href='vscode-notebook-cell:/Users/xieyulun/Documents/note/s2023_1/ML2/10Homework/hw10.ipynb#X20sZmlsZQ%3D%3D?line=28'>29</a>\u001b[0m knn\u001b[39m.\u001b[39mfit(train_features, train_labels)\n\u001b[1;32m     <a href='vscode-notebook-cell:/Users/xieyulun/Documents/note/s2023_1/ML2/10Homework/hw10.ipynb#X20sZmlsZQ%3D%3D?line=29'>30</a>\u001b[0m train_preds \u001b[39m=\u001b[39m knn\u001b[39m.\u001b[39mpredict(train_features)\n\u001b[0;32m---> <a href='vscode-notebook-cell:/Users/xieyulun/Documents/note/s2023_1/ML2/10Homework/hw10.ipynb#X20sZmlsZQ%3D%3D?line=30'>31</a>\u001b[0m \u001b[39mprint\u001b[39m(\u001b[39m\"\u001b[39m\u001b[39mAccuracy:\u001b[39m\u001b[39m\"\u001b[39m, accuracy_score(train_features, train_labels))\n",
      "File \u001b[0;32m~/.local/share/virtualenvs/ML2-wheWIX6u/lib/python3.8/site-packages/sklearn/utils/_param_validation.py:214\u001b[0m, in \u001b[0;36mvalidate_params.<locals>.decorator.<locals>.wrapper\u001b[0;34m(*args, **kwargs)\u001b[0m\n\u001b[1;32m    208\u001b[0m \u001b[39mtry\u001b[39;00m:\n\u001b[1;32m    209\u001b[0m     \u001b[39mwith\u001b[39;00m config_context(\n\u001b[1;32m    210\u001b[0m         skip_parameter_validation\u001b[39m=\u001b[39m(\n\u001b[1;32m    211\u001b[0m             prefer_skip_nested_validation \u001b[39mor\u001b[39;00m global_skip_validation\n\u001b[1;32m    212\u001b[0m         )\n\u001b[1;32m    213\u001b[0m     ):\n\u001b[0;32m--> 214\u001b[0m         \u001b[39mreturn\u001b[39;00m func(\u001b[39m*\u001b[39;49margs, \u001b[39m*\u001b[39;49m\u001b[39m*\u001b[39;49mkwargs)\n\u001b[1;32m    215\u001b[0m \u001b[39mexcept\u001b[39;00m InvalidParameterError \u001b[39mas\u001b[39;00m e:\n\u001b[1;32m    216\u001b[0m     \u001b[39m# When the function is just a wrapper around an estimator, we allow\u001b[39;00m\n\u001b[1;32m    217\u001b[0m     \u001b[39m# the function to delegate validation to the estimator, but we replace\u001b[39;00m\n\u001b[1;32m    218\u001b[0m     \u001b[39m# the name of the estimator by the name of the function in the error\u001b[39;00m\n\u001b[1;32m    219\u001b[0m     \u001b[39m# message to avoid confusion.\u001b[39;00m\n\u001b[1;32m    220\u001b[0m     msg \u001b[39m=\u001b[39m re\u001b[39m.\u001b[39msub(\n\u001b[1;32m    221\u001b[0m         \u001b[39mr\u001b[39m\u001b[39m\"\u001b[39m\u001b[39mparameter of \u001b[39m\u001b[39m\\\u001b[39m\u001b[39mw+ must be\u001b[39m\u001b[39m\"\u001b[39m,\n\u001b[1;32m    222\u001b[0m         \u001b[39mf\u001b[39m\u001b[39m\"\u001b[39m\u001b[39mparameter of \u001b[39m\u001b[39m{\u001b[39;00mfunc\u001b[39m.\u001b[39m\u001b[39m__qualname__\u001b[39m\u001b[39m}\u001b[39;00m\u001b[39m must be\u001b[39m\u001b[39m\"\u001b[39m,\n\u001b[1;32m    223\u001b[0m         \u001b[39mstr\u001b[39m(e),\n\u001b[1;32m    224\u001b[0m     )\n",
      "File \u001b[0;32m~/.local/share/virtualenvs/ML2-wheWIX6u/lib/python3.8/site-packages/sklearn/metrics/_classification.py:220\u001b[0m, in \u001b[0;36maccuracy_score\u001b[0;34m(y_true, y_pred, normalize, sample_weight)\u001b[0m\n\u001b[1;32m    154\u001b[0m \u001b[39m\u001b[39m\u001b[39m\"\"\"Accuracy classification score.\u001b[39;00m\n\u001b[1;32m    155\u001b[0m \n\u001b[1;32m    156\u001b[0m \u001b[39mIn multilabel classification, this function computes subset accuracy:\u001b[39;00m\n\u001b[0;32m   (...)\u001b[0m\n\u001b[1;32m    216\u001b[0m \u001b[39m0.5\u001b[39;00m\n\u001b[1;32m    217\u001b[0m \u001b[39m\"\"\"\u001b[39;00m\n\u001b[1;32m    219\u001b[0m \u001b[39m# Compute accuracy for each possible representation\u001b[39;00m\n\u001b[0;32m--> 220\u001b[0m y_type, y_true, y_pred \u001b[39m=\u001b[39m _check_targets(y_true, y_pred)\n\u001b[1;32m    221\u001b[0m check_consistent_length(y_true, y_pred, sample_weight)\n\u001b[1;32m    222\u001b[0m \u001b[39mif\u001b[39;00m y_type\u001b[39m.\u001b[39mstartswith(\u001b[39m\"\u001b[39m\u001b[39mmultilabel\u001b[39m\u001b[39m\"\u001b[39m):\n",
      "File \u001b[0;32m~/.local/share/virtualenvs/ML2-wheWIX6u/lib/python3.8/site-packages/sklearn/metrics/_classification.py:93\u001b[0m, in \u001b[0;36m_check_targets\u001b[0;34m(y_true, y_pred)\u001b[0m\n\u001b[1;32m     90\u001b[0m     y_type \u001b[39m=\u001b[39m {\u001b[39m\"\u001b[39m\u001b[39mmulticlass\u001b[39m\u001b[39m\"\u001b[39m}\n\u001b[1;32m     92\u001b[0m \u001b[39mif\u001b[39;00m \u001b[39mlen\u001b[39m(y_type) \u001b[39m>\u001b[39m \u001b[39m1\u001b[39m:\n\u001b[0;32m---> 93\u001b[0m     \u001b[39mraise\u001b[39;00m \u001b[39mValueError\u001b[39;00m(\n\u001b[1;32m     94\u001b[0m         \u001b[39m\"\u001b[39m\u001b[39mClassification metrics can\u001b[39m\u001b[39m'\u001b[39m\u001b[39mt handle a mix of \u001b[39m\u001b[39m{0}\u001b[39;00m\u001b[39m and \u001b[39m\u001b[39m{1}\u001b[39;00m\u001b[39m targets\u001b[39m\u001b[39m\"\u001b[39m\u001b[39m.\u001b[39mformat(\n\u001b[1;32m     95\u001b[0m             type_true, type_pred\n\u001b[1;32m     96\u001b[0m         )\n\u001b[1;32m     97\u001b[0m     )\n\u001b[1;32m     99\u001b[0m \u001b[39m# We can't have more than one value on y_type => The set is no more needed\u001b[39;00m\n\u001b[1;32m    100\u001b[0m y_type \u001b[39m=\u001b[39m y_type\u001b[39m.\u001b[39mpop()\n",
      "\u001b[0;31mValueError\u001b[0m: Classification metrics can't handle a mix of multiclass-multioutput and multiclass targets"
     ]
    }
   ],
   "source": [
    "from sklearn.metrics import accuracy_score\n",
    "\n",
    "# Load the training, test, and validation datasets\n",
    "train_data = np.loadtxt('10HW3_train.txt')\n",
    "test_data = np.loadtxt('10HW3_test.txt')\n",
    "val_data = np.loadtxt('10HW3_validate.txt')\n",
    "\n",
    "# Separate the feature vectors and labels\n",
    "train_features, train_labels = train_data[:, :-1], train_data[:, -1]\n",
    "test_features, test_labels = test_data[:, :-1], test_data[:, -1]\n",
    "val_features, val_labels = val_data[:, :-1], val_data[:, -1]\n",
    "\n",
    "# Define the k values\n",
    "k_values = [1, 3, 5, 11, 16, 21]\n",
    "\n",
    "# Initialize lists to store training errors and validation errors\n",
    "train_errors = []\n",
    "val_errors = []\n",
    "test_errors = []\n",
    "\n",
    "# Implement the kNN classifier for each value of k\n",
    "for k in k_values:\n",
    "    # Initialize lists to store predicted labels\n",
    "    train_preds = []\n",
    "    val_preds = []\n",
    "    test_preds = []\n",
    "    \n",
    "    knn = KNeighborsClassifier(n_neighbors=k)\n",
    "    knn.fit(train_features, train_labels)\n",
    "    train_preds = knn.predict(train_features)\n",
    "    print(\"Accuracy:\", accuracy_score(train_features, train_labels))\n",
    "\n",
    "\n",
    "\n"
   ]
  },
  {
   "cell_type": "code",
   "execution_count": null,
   "metadata": {},
   "outputs": [],
   "source": []
  }
 ],
 "metadata": {
  "kernelspec": {
   "display_name": "ML2-wheWIX6u",
   "language": "python",
   "name": "python3"
  },
  "language_info": {
   "codemirror_mode": {
    "name": "ipython",
    "version": 3
   },
   "file_extension": ".py",
   "mimetype": "text/x-python",
   "name": "python",
   "nbconvert_exporter": "python",
   "pygments_lexer": "ipython3",
   "version": "3.8.10"
  }
 },
 "nbformat": 4,
 "nbformat_minor": 2
}
