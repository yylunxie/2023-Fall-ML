{
 "cells": [
  {
   "cell_type": "code",
   "execution_count": 92,
   "metadata": {},
   "outputs": [],
   "source": [
    "from sklearn.model_selection import cross_val_score\n",
    "from sklearn.model_selection import RepeatedKFold\n",
    "from sklearn.linear_model import Lasso, Ridge\n",
    "from sklearn.metrics import mean_squared_error\n",
    "import scipy\n",
    "import matplotlib.pyplot as plt\n",
    "import numpy as np\n",
    "import pandas as pd"
   ]
  },
  {
   "cell_type": "markdown",
   "metadata": {},
   "source": [
    "# Problem 1"
   ]
  },
  {
   "cell_type": "code",
   "execution_count": 63,
   "metadata": {},
   "outputs": [
    {
     "name": "stdout",
     "output_type": "stream",
     "text": [
      "dict_keys(['__header__', '__version__', '__globals__', 'x_train', 'y_train', 'x_test', 'y_test'])\n",
      "(200, 64)\n",
      "(242, 1)\n"
     ]
    }
   ],
   "source": [
    "# Read in the data\n",
    "data = scipy.io.loadmat('05HW1_diabetes.mat')\n",
    "print(data.keys())\n",
    "x_train = data['x_train']\n",
    "y_train = data['y_train']\n",
    "x_test = data['x_test']\n",
    "y_test = data['y_test']\n",
    "lambda_s = [0.01, 0.1, 1, 10, 100, 1000]\n",
    "print(x_test.shape)\n",
    "print(y_train.shape)"
   ]
  },
  {
   "cell_type": "markdown",
   "metadata": {},
   "source": [
    "**Plot the weights 𝜷 at different lambda.  Discuss how the weights are changed by varying ;ambda.**"
   ]
  },
  {
   "cell_type": "code",
   "execution_count": 70,
   "metadata": {},
   "outputs": [
    {
     "name": "stdout",
     "output_type": "stream",
     "text": [
      "(64,)\n",
      "(64,)\n",
      "(64,)\n",
      "(64,)\n",
      "(64,)\n",
      "(64,)\n"
     ]
    }
   ],
   "source": [
    "def beta(x, y, lambda_):\n",
    "    lasso = Lasso(alpha=lambda_)\n",
    "    lasso.fit(x, y)\n",
    "    return lasso.coef_\n",
    "\n",
    "betas = []\n",
    "for i in lambda_s:\n",
    "    print(beta(x_train, y_train, i).shape)\n",
    "    betas.append(beta(x_train, y_train, i))\n",
    "\n",
    "plt.figure(figsize=(5, 5))\n",
    "plt.plot(np.log(lambda_s), betas)\n",
    "plt.xlabel('log(lambda)')\n",
    "plt.ylabel('beta')\n",
    "plt.title('Lasso coefficients as a function of alpha')\n",
    "plt.tight_layout()\n",
    "plt.savefig('hw5_1_a.png', dpi=300)\n",
    "plt.close()\n"
   ]
  },
  {
   "cell_type": "markdown",
   "metadata": {},
   "source": [
    "** b Plot test error at different .  Discuss how the test error is changed by varying .**"
   ]
  },
  {
   "cell_type": "markdown",
   "metadata": {},
   "source": []
  },
  {
   "cell_type": "code",
   "execution_count": 65,
   "metadata": {},
   "outputs": [],
   "source": [
    "def error_lasso(x, y, lambda_, x_test):\n",
    "    lasso = Lasso(alpha=lambda_)\n",
    "    lasso.fit(x, y)\n",
    "    yhat = lasso.predict(x_test)\n",
    "    return mean_squared_error(y_test, yhat)\n",
    "\n",
    "\n",
    "\n",
    "error = []\n",
    "for i in lambda_s:\n",
    "    error.append(error_lasso(x_train, y_train, i, x_test))\n",
    "\n",
    "f, ax = plt.subplots(1, 2, figsize=(10, 5))\n",
    "ax[0].plot(lambda_s, error)\n",
    "ax[0].scatter(lambda_s, error)\n",
    "ax[0].set_title('MSE')\n",
    "ax[0].set_xlabel('lambda')\n",
    "ax[1].plot(np.log(lambda_s), error)\n",
    "ax[1].scatter(np.log(lambda_s), error)\n",
    "ax[1].set_title('MSE')\n",
    "ax[1].set_xlabel('log(lambda)')\n",
    "plt.savefig('hw5_1_b.png', dpi=300)\n",
    "plt.close()\n"
   ]
  },
  {
   "cell_type": "code",
   "execution_count": 90,
   "metadata": {},
   "outputs": [
    {
     "name": "stdout",
     "output_type": "stream",
     "text": [
      "(64,)\n",
      "(64,)\n",
      "(64,)\n",
      "(64,)\n",
      "(64,)\n",
      "(64,)\n"
     ]
    }
   ],
   "source": [
    "def beta_r(x, y, lambda_):\n",
    "    ridge = Ridge(alpha=lambda_)\n",
    "    ridge.fit(x, y)\n",
    "    return ridge.coef_\n",
    "\n",
    "betas_r = []\n",
    "for i in lambda_s:\n",
    "    # print(type(beta_r(x_train, y_train, i)))\n",
    "    print(np.reshape(beta_r(x_train, y_train, i), (64)).shape)\n",
    "    betas_r.append(np.reshape((beta_r(x_train, y_train, i)), (64)))\n",
    "    \n",
    "plt.figure(figsize=(5, 5))\n",
    "plt.plot(np.log(lambda_s), betas_r)\n",
    "plt.xlabel('log(lambda)')\n",
    "plt.ylabel('beta')\n",
    "plt.title('Ridge coefficients as a function of alpha')\n",
    "plt.tight_layout()\n",
    "plt.savefig('hw5_1_c.png', dpi=300)\n",
    "plt.close()"
   ]
  },
  {
   "cell_type": "markdown",
   "metadata": {},
   "source": [
    "# Problem 2"
   ]
  },
  {
   "cell_type": "code",
   "execution_count": 107,
   "metadata": {},
   "outputs": [
    {
     "name": "stderr",
     "output_type": "stream",
     "text": [
      "C:\\Users\\yylunxie\\AppData\\Local\\Temp\\ipykernel_90188\\3677271048.py:3: ParserWarning: Falling back to the 'python' engine because the 'c' engine does not support regex separators (separators > 1 char and different from '\\s+' are interpreted as regex); you can avoid this warning by specifying engine='python'.\n",
      "  training = pd.read_csv('05HW2_wine_training.txt', sep='  ', header=None)\n",
      "C:\\Users\\yylunxie\\AppData\\Local\\Temp\\ipykernel_90188\\3677271048.py:4: ParserWarning: Falling back to the 'python' engine because the 'c' engine does not support regex separators (separators > 1 char and different from '\\s+' are interpreted as regex); you can avoid this warning by specifying engine='python'.\n",
      "  test = pd.read_csv('05HW2_wine_test.txt', sep='  ', header=None)\n"
     ]
    },
    {
     "data": {
      "text/html": [
       "<div>\n",
       "<style scoped>\n",
       "    .dataframe tbody tr th:only-of-type {\n",
       "        vertical-align: middle;\n",
       "    }\n",
       "\n",
       "    .dataframe tbody tr th {\n",
       "        vertical-align: top;\n",
       "    }\n",
       "\n",
       "    .dataframe thead th {\n",
       "        text-align: right;\n",
       "    }\n",
       "</style>\n",
       "<table border=\"1\" class=\"dataframe\">\n",
       "  <thead>\n",
       "    <tr style=\"text-align: right;\">\n",
       "      <th></th>\n",
       "      <th>0</th>\n",
       "      <th>1</th>\n",
       "      <th>2</th>\n",
       "      <th>3</th>\n",
       "      <th>4</th>\n",
       "      <th>5</th>\n",
       "      <th>6</th>\n",
       "      <th>7</th>\n",
       "      <th>8</th>\n",
       "      <th>9</th>\n",
       "    </tr>\n",
       "  </thead>\n",
       "  <tbody>\n",
       "    <tr>\n",
       "      <th>0</th>\n",
       "      <td>8.3</td>\n",
       "      <td>0.6</td>\n",
       "      <td>0</td>\n",
       "      <td>2.1</td>\n",
       "      <td>0.084</td>\n",
       "      <td>11</td>\n",
       "      <td>50</td>\n",
       "      <td>0.9972</td>\n",
       "      <td>3.40</td>\n",
       "      <td>0.61</td>\n",
       "    </tr>\n",
       "    <tr>\n",
       "      <th>1</th>\n",
       "      <td>7.8</td>\n",
       "      <td>0.5</td>\n",
       "      <td>0</td>\n",
       "      <td>1.9</td>\n",
       "      <td>0.075</td>\n",
       "      <td>8</td>\n",
       "      <td>22</td>\n",
       "      <td>0.9959</td>\n",
       "      <td>3.31</td>\n",
       "      <td>0.56</td>\n",
       "    </tr>\n",
       "    <tr>\n",
       "      <th>2</th>\n",
       "      <td>8.1</td>\n",
       "      <td>0.5</td>\n",
       "      <td>0</td>\n",
       "      <td>1.9</td>\n",
       "      <td>0.080</td>\n",
       "      <td>13</td>\n",
       "      <td>35</td>\n",
       "      <td>0.9972</td>\n",
       "      <td>3.30</td>\n",
       "      <td>0.59</td>\n",
       "    </tr>\n",
       "    <tr>\n",
       "      <th>3</th>\n",
       "      <td>8.1</td>\n",
       "      <td>0.6</td>\n",
       "      <td>0</td>\n",
       "      <td>2.1</td>\n",
       "      <td>0.077</td>\n",
       "      <td>12</td>\n",
       "      <td>65</td>\n",
       "      <td>0.9967</td>\n",
       "      <td>3.29</td>\n",
       "      <td>0.51</td>\n",
       "    </tr>\n",
       "    <tr>\n",
       "      <th>4</th>\n",
       "      <td>7.2</td>\n",
       "      <td>0.5</td>\n",
       "      <td>0</td>\n",
       "      <td>2.2</td>\n",
       "      <td>0.070</td>\n",
       "      <td>5</td>\n",
       "      <td>36</td>\n",
       "      <td>0.9960</td>\n",
       "      <td>3.33</td>\n",
       "      <td>0.48</td>\n",
       "    </tr>\n",
       "    <tr>\n",
       "      <th>...</th>\n",
       "      <td>...</td>\n",
       "      <td>...</td>\n",
       "      <td>...</td>\n",
       "      <td>...</td>\n",
       "      <td>...</td>\n",
       "      <td>...</td>\n",
       "      <td>...</td>\n",
       "      <td>...</td>\n",
       "      <td>...</td>\n",
       "      <td>...</td>\n",
       "    </tr>\n",
       "    <tr>\n",
       "      <th>95</th>\n",
       "      <td>7.8</td>\n",
       "      <td>0.6</td>\n",
       "      <td>0</td>\n",
       "      <td>2.0</td>\n",
       "      <td>0.074</td>\n",
       "      <td>24</td>\n",
       "      <td>120</td>\n",
       "      <td>0.9968</td>\n",
       "      <td>3.25</td>\n",
       "      <td>0.54</td>\n",
       "    </tr>\n",
       "    <tr>\n",
       "      <th>96</th>\n",
       "      <td>7.3</td>\n",
       "      <td>0.6</td>\n",
       "      <td>0</td>\n",
       "      <td>2.4</td>\n",
       "      <td>0.074</td>\n",
       "      <td>15</td>\n",
       "      <td>55</td>\n",
       "      <td>0.9968</td>\n",
       "      <td>3.46</td>\n",
       "      <td>0.59</td>\n",
       "    </tr>\n",
       "    <tr>\n",
       "      <th>97</th>\n",
       "      <td>11.5</td>\n",
       "      <td>0.3</td>\n",
       "      <td>1</td>\n",
       "      <td>2.0</td>\n",
       "      <td>0.067</td>\n",
       "      <td>12</td>\n",
       "      <td>27</td>\n",
       "      <td>0.9981</td>\n",
       "      <td>3.11</td>\n",
       "      <td>0.97</td>\n",
       "    </tr>\n",
       "    <tr>\n",
       "      <th>98</th>\n",
       "      <td>5.4</td>\n",
       "      <td>0.8</td>\n",
       "      <td>0</td>\n",
       "      <td>1.2</td>\n",
       "      <td>0.046</td>\n",
       "      <td>13</td>\n",
       "      <td>93</td>\n",
       "      <td>0.9924</td>\n",
       "      <td>3.57</td>\n",
       "      <td>0.85</td>\n",
       "    </tr>\n",
       "    <tr>\n",
       "      <th>99</th>\n",
       "      <td>6.9</td>\n",
       "      <td>1.1</td>\n",
       "      <td>0</td>\n",
       "      <td>2.1</td>\n",
       "      <td>0.061</td>\n",
       "      <td>12</td>\n",
       "      <td>31</td>\n",
       "      <td>0.9948</td>\n",
       "      <td>3.51</td>\n",
       "      <td>0.43</td>\n",
       "    </tr>\n",
       "  </tbody>\n",
       "</table>\n",
       "<p>100 rows × 10 columns</p>\n",
       "</div>"
      ],
      "text/plain": [
       "       0    1  2    3      4   5    6       7     8     9\n",
       "0    8.3  0.6  0  2.1  0.084  11   50  0.9972  3.40  0.61\n",
       "1    7.8  0.5  0  1.9  0.075   8   22  0.9959  3.31  0.56\n",
       "2    8.1  0.5  0  1.9  0.080  13   35  0.9972  3.30  0.59\n",
       "3    8.1  0.6  0  2.1  0.077  12   65  0.9967  3.29  0.51\n",
       "4    7.2  0.5  0  2.2  0.070   5   36  0.9960  3.33  0.48\n",
       "..   ...  ... ..  ...    ...  ..  ...     ...   ...   ...\n",
       "95   7.8  0.6  0  2.0  0.074  24  120  0.9968  3.25  0.54\n",
       "96   7.3  0.6  0  2.4  0.074  15   55  0.9968  3.46  0.59\n",
       "97  11.5  0.3  1  2.0  0.067  12   27  0.9981  3.11  0.97\n",
       "98   5.4  0.8  0  1.2  0.046  13   93  0.9924  3.57  0.85\n",
       "99   6.9  1.1  0  2.1  0.061  12   31  0.9948  3.51  0.43\n",
       "\n",
       "[100 rows x 10 columns]"
      ]
     },
     "metadata": {},
     "output_type": "display_data"
    },
    {
     "name": "stdout",
     "output_type": "stream",
     "text": [
      "(11, 12)\n"
     ]
    }
   ],
   "source": [
    "lambda_s = [0.0001, 0.0005, 0.0025, 0.0125, 0.0625, 0.3125, 1.5625, 7.8125, 39.0625, 195.3125]\n",
    "\n",
    "training = pd.read_csv('05HW2_wine_training.txt', sep='  ', header=None)\n",
    "test = pd.read_csv('05HW2_wine_test.txt', sep='  ', header=None)\n",
    "display(training.iloc[:, :10])\n",
    "print(x_train.shape)"
   ]
  },
  {
   "cell_type": "code",
   "execution_count": 113,
   "metadata": {},
   "outputs": [],
   "source": [
    "def beta(x, y, lambda_):\n",
    "    lasso = Lasso(alpha=lambda_)\n",
    "    lasso.fit(x, y)\n",
    "    return lasso.coef_\n",
    "\n",
    "betas = []\n",
    "for i in lambda_s:\n",
    "    betas.append(beta(x_train, y_train, i))\n",
    "\n",
    "plt.figure(figsize=(5, 5))\n",
    "plt.plot(np.log(lambda_s), betas)\n",
    "plt.xlabel('log(lambda)')\n",
    "plt.ylabel('beta')\n",
    "plt.title('Lasso coefficients as a function of alpha')\n",
    "plt.tight_layout()\n",
    "plt.savefig('hw5_2_1.png', dpi=300)\n",
    "plt.close()"
   ]
  },
  {
   "cell_type": "code",
   "execution_count": 118,
   "metadata": {},
   "outputs": [
    {
     "name": "stdout",
     "output_type": "stream",
     "text": [
      "(100, 11)\n"
     ]
    }
   ],
   "source": [
    "lambda_s = [0.0001, 0.0005, 0.0025, 0.0125, 0.0625, 0.3125, 1.5625, 7.8125, 39.0625, 195.3125]\n",
    "\n",
    "x_train = training.iloc[:, :11]\n",
    "y_train = training.iloc[:, 11]\n",
    "x_test = test.iloc[:, :11]\n",
    "y_test = test.iloc[:, 11]\n",
    "print(x_test.shape)\n",
    "\n",
    "def error(x, y, lambda_, x_t, y_t, kind):\n",
    "    if kind == 'lasso':\n",
    "        lasso = Lasso(alpha=lambda_)\n",
    "        lasso.fit(x, y)\n",
    "        yhat = lasso.predict(x_t)\n",
    "        return mean_squared_error(y_t, yhat)\n",
    "    elif kind == 'ridge':\n",
    "        ridge = Ridge(alpha=lambda_)\n",
    "        ridge.fit(x, y)\n",
    "        yhat = ridge.predict(x_t)\n",
    "        return mean_squared_error(y_t, yhat)\n",
    "    else:   \n",
    "        print('error')\n",
    "\n",
    "\n",
    "error_training = []\n",
    "error_test = []\n",
    "for i in lambda_s:\n",
    "    error_training.append(error(x_train, y_train, i, x_train, y_train, 'lasso'))\n",
    "    error_test.append(error(x_train, y_train, i, x_test, y_test, 'lasso'))\n",
    "\n",
    "# f, ax = plt.subplots(1, 2, figsize=(10, 5))\n",
    "# ax[0].plot(np.log(lambda_s), error_training)\n",
    "# ax[0].scatter(np.log(lambda_s), error_training)\n",
    "# ax[0].set_title('MSE for training data')\n",
    "# ax[0].set_xlabel('log(lambda)')\n",
    "# ax[1].plot(np.log(lambda_s), error_test)\n",
    "# ax[1].scatter(np.log(lambda_s), error_test)\n",
    "# ax[1].set_title('MSE for test data')\n",
    "# ax[1].set_xlabel('log(lambda)')\n",
    "# plt.savefig('hw5_2_a.png', dpi=300)\n",
    "# plt.close()\n",
    "\n",
    "plt.figure(figsize=(5, 5))\n",
    "plt.plot(np.log(lambda_s), error_training, label='training')\n",
    "plt.scatter(np.log(lambda_s), error_training)\n",
    "plt.plot(np.log(lambda_s), error_test, label='test')\n",
    "plt.scatter(np.log(lambda_s), error_test)\n",
    "plt.xlabel('log(lambda)')\n",
    "plt.ylabel('MSE')\n",
    "plt.title('MSE for training and test data')\n",
    "plt.legend()\n",
    "plt.tight_layout()\n",
    "plt.savefig('hw5_2_a.png', dpi=300)\n",
    "plt.close()\n"
   ]
  },
  {
   "cell_type": "code",
   "execution_count": null,
   "metadata": {},
   "outputs": [],
   "source": [
    "\n"
   ]
  }
 ],
 "metadata": {
  "kernelspec": {
   "display_name": "05Homework-WInsfDXA",
   "language": "python",
   "name": "python3"
  },
  "language_info": {
   "codemirror_mode": {
    "name": "ipython",
    "version": 3
   },
   "file_extension": ".py",
   "mimetype": "text/x-python",
   "name": "python",
   "nbconvert_exporter": "python",
   "pygments_lexer": "ipython3",
   "version": "3.8.10"
  }
 },
 "nbformat": 4,
 "nbformat_minor": 2
}
