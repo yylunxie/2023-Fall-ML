{
 "cells": [
  {
   "cell_type": "markdown",
   "metadata": {},
   "source": [
    "# Problem1"
   ]
  },
  {
   "cell_type": "code",
   "execution_count": 1,
   "metadata": {},
   "outputs": [],
   "source": [
    "import torch\n",
    "# import torch.nn.functional as F\n",
    "import matplotlib.pyplot as plt\n",
    "import math\n"
   ]
  },
  {
   "cell_type": "code",
   "execution_count": 2,
   "metadata": {},
   "outputs": [],
   "source": [
    "class Net(torch.nn.Module):\n",
    "    def __init__(self, n_feature, n_hidden, n_output):\n",
    "        super(Net, self).__init__()\n",
    "        self.hidden = torch.nn.Linear(n_feature, n_hidden)   # hidden layer\n",
    "        self.hidden1 = torch.nn.Linear(n_hidden, n_hidden)   # hidden layer\n",
    "        self.predict = torch.nn.Linear(n_hidden, n_output)   # output layer\n",
    "        self.tan = torch.nn.Tanh()\n",
    "\n",
    "    def forward(self, x):\n",
    "        x = self.tan(self.hidden(x))\n",
    "        x = self.predict(x)\n",
    "        return x\n"
   ]
  },
  {
   "cell_type": "code",
   "execution_count": 13,
   "metadata": {},
   "outputs": [
    {
     "name": "stdout",
     "output_type": "stream",
     "text": [
      "Early stop at 528 epochs with loss less than 0.001.\n"
     ]
    },
    {
     "data": {
      "image/png": "[encoded data removed]",
      "text/plain": [
       "<Figure size 432x288 with 1 Axes>"
      ]
     },
     "metadata": {
      "needs_background": "light"
     },
     "output_type": "display_data"
    }
   ],
   "source": [
    "x = torch.unsqueeze(torch.arange(0, 2, 0.01), dim=1)\n",
    "y = torch.sin(2*math.pi*x) + 0.1*torch.rand(x.size())\n",
    "\n",
    "net = Net(n_feature=1, n_hidden=10, n_output=1)\n",
    "optimizer = torch.optim.Adam(net.parameters(), lr=0.05)\n",
    "loss_func = torch.nn.SmoothL1Loss()\n",
    "\n",
    "for t in range(2000):\n",
    "    prediction = net(x)\n",
    "\n",
    "    loss = loss_func(prediction, y)\n",
    "    if loss < 0.001:\n",
    "        print(f'Early stop at {t} epochs with loss less than 0.001.')\n",
    "        break\n",
    "\n",
    "    optimizer.zero_grad()   # clear gradients\n",
    "    loss.backward()         # backpropagation\n",
    "    optimizer.step()        # apply gradients\n",
    "\n",
    "plt.clf()\n",
    "plt.plot(x.numpy(), prediction.data.numpy(),\n",
    "         '-', c='cyan', lw=2, label='Prediction')\n",
    "plt.scatter(x.numpy(), y.data.numpy(), c='orange', s=5, label='Groundtruth')\n",
    "plt.legend()\n",
    "plt.show()\n"
   ]
  },
  {
   "cell_type": "markdown",
   "metadata": {},
   "source": [
    "模型訓練528 epochs後收斂。但最終收斂所需之epoch數與ANN的neuron數量相關，若數量過少，模型不一定可良好的預測，若過多可能會過擬合。"
   ]
  },
  {
   "cell_type": "markdown",
   "metadata": {},
   "source": [
    "# Problem2"
   ]
  },
  {
   "cell_type": "code",
   "execution_count": 4,
   "metadata": {},
   "outputs": [
    {
     "name": "stderr",
     "output_type": "stream",
     "text": [
      "c:\\Users\\Yun\\AppData\\Local\\Programs\\Python\\Python310\\lib\\site-packages\\scipy\\__init__.py:146: UserWarning: A NumPy version >=1.16.5 and <1.23.0 is required for this version of SciPy (detected version 1.23.5\n",
      "  warnings.warn(f\"A NumPy version >={np_minversion} and <{np_maxversion}\"\n"
     ]
    }
   ],
   "source": [
    "import os\n",
    "import torch\n",
    "import torch.nn as nn\n",
    "import torch.utils.data as Data\n",
    "import torchvision\n",
    "import matplotlib.pyplot as plt\n"
   ]
  },
  {
   "cell_type": "code",
   "execution_count": 5,
   "metadata": {},
   "outputs": [
    {
     "name": "stdout",
     "output_type": "stream",
     "text": [
      "torch.Size([60000, 28, 28])\n",
      "torch.Size([60000])\n"
     ]
    },
    {
     "name": "stderr",
     "output_type": "stream",
     "text": [
      "c:\\Users\\Yun\\AppData\\Local\\Programs\\Python\\Python310\\lib\\site-packages\\torchvision\\datasets\\mnist.py:75: UserWarning: train_data has been renamed data\n",
      "  warnings.warn(\"train_data has been renamed data\")\n",
      "c:\\Users\\Yun\\AppData\\Local\\Programs\\Python\\Python310\\lib\\site-packages\\torchvision\\datasets\\mnist.py:65: UserWarning: train_labels has been renamed targets\n",
      "  warnings.warn(\"train_labels has been renamed targets\")\n",
      "c:\\Users\\Yun\\AppData\\Local\\Programs\\Python\\Python310\\lib\\site-packages\\torchvision\\datasets\\mnist.py:80: UserWarning: test_data has been renamed data\n",
      "  warnings.warn(\"test_data has been renamed data\")\n",
      "c:\\Users\\Yun\\AppData\\Local\\Programs\\Python\\Python310\\lib\\site-packages\\torchvision\\datasets\\mnist.py:70: UserWarning: test_labels has been renamed targets\n",
      "  warnings.warn(\"test_labels has been renamed targets\")\n"
     ]
    }
   ],
   "source": [
    "# Parameters\n",
    "EPOCH = 2                          # train the training data n times\n",
    "BATCH_SIZE = 100\n",
    "learning_rate = 0.001              # learning rate\n",
    "\n",
    "\n",
    "# Mnist digits dataset\n",
    "if not(os.path.exists('./mnist/')) or not os.listdir('./mnist/'):\n",
    "    # not mnist dir or mnist is empyt dir\n",
    "    DOWNLOAD_MNIST = True\n",
    "# training data\n",
    "train_data = torchvision.datasets.MNIST(\n",
    "    root='./mnist/',\n",
    "    train=True,\n",
    "    # normalize in the range [0.0, 1.0]\n",
    "    transform=torchvision.transforms.ToTensor(),\n",
    "\n",
    "    download=True,\n",
    ")\n",
    "\n",
    "\n",
    "print(train_data.train_data.size())                 # ([60000, 28, 28])\n",
    "print(train_data.train_labels.size())               # ([60000])\n",
    "# image batch shape (6000, 1, 28, 28)\n",
    "train_loader = Data.DataLoader(\n",
    "    dataset=train_data, batch_size=BATCH_SIZE, shuffle=True)\n",
    "\n",
    "# 2000 samples testing data\n",
    "test_data = torchvision.datasets.MNIST(root='./mnist/', train=False)\n",
    "test_x = torch.unsqueeze(test_data.test_data, dim=1).type(torch.FloatTensor)[\n",
    "    :2000]/255.   # shape from (2000, 28, 28) to (2000, 1, 28, 28), value in range(0,1)\n",
    "test_y = test_data.test_labels[:2000]\n"
   ]
  },
  {
   "cell_type": "code",
   "execution_count": 6,
   "metadata": {},
   "outputs": [],
   "source": [
    "# CNN\n",
    "class CNN(nn.Module):\n",
    "    def __init__(self):\n",
    "        super(CNN, self).__init__()\n",
    "        self.conv1 = nn.Sequential(         # input shape (1, 28, 28)\n",
    "            nn.Conv2d(\n",
    "                in_channels=1,              # input height\n",
    "                out_channels=16,            # n_filters\n",
    "                kernel_size=5,              # filter size\n",
    "                stride=1,                   # filter movement/step\n",
    "                padding=2,                  # padding=(kernel_size-1)/2\n",
    "            ),                              # output shape (16, 28, 28)\n",
    "            nn.BatchNorm2d(16),             # Batch Normalization\n",
    "            nn.ReLU(),                      # activation\n",
    "            # choose max value in 2x2 area, output shape (16, 14, 14)\n",
    "            nn.MaxPool2d(kernel_size=2),\n",
    "        )\n",
    "        self.conv2 = nn.Sequential(         # input shape (16, 14, 14)\n",
    "            nn.Conv2d(16, 32, 5, 1, 2),     # output shape (32, 14, 14)\n",
    "            nn.BatchNorm2d(32),             # Batch Normalization\n",
    "            nn.ReLU(),                      # activation\n",
    "            nn.MaxPool2d(2),                # output shape (32, 7, 7)\n",
    "        )\n",
    "        self.fc_layers = nn.Sequential(\n",
    "            # fully connected layer, output 256 classes\n",
    "            nn.Linear(32 * 7 * 7, 256),\n",
    "            nn.ReLU(),                      # activation\n",
    "        )\n",
    "        # fully connected layer, output 10 classes\n",
    "        self.out = nn.Linear(256, 10)\n",
    "\n",
    "    def forward(self, x):\n",
    "        x = self.conv1(x)\n",
    "        x = self.conv2(x)\n",
    "        # flatten the output to (batch_size, 32 * 7 * 7)\n",
    "        x = x.flatten(1)\n",
    "        x = self.fc_layers(x)\n",
    "        output = self.out(x)\n",
    "        output = nn.functional.softmax(output, dim=1)   # softmax\n",
    "        return output\n"
   ]
  },
  {
   "cell_type": "code",
   "execution_count": 7,
   "metadata": {},
   "outputs": [
    {
     "name": "stdout",
     "output_type": "stream",
     "text": [
      "Epoch:  0 | train loss: 2.3080 | test accuracy: 0.13\n",
      "Epoch:  0 | train loss: 1.5833 | test accuracy: 0.93\n",
      "Epoch:  0 | train loss: 1.5159 | test accuracy: 0.95\n",
      "Epoch:  0 | train loss: 1.4865 | test accuracy: 0.95\n",
      "Epoch:  0 | train loss: 1.4938 | test accuracy: 0.97\n",
      "Epoch:  0 | train loss: 1.5109 | test accuracy: 0.97\n",
      "Epoch:  0 | train loss: 1.4846 | test accuracy: 0.97\n",
      "Epoch:  0 | train loss: 1.4898 | test accuracy: 0.96\n",
      "Epoch:  0 | train loss: 1.4966 | test accuracy: 0.96\n",
      "Epoch:  0 | train loss: 1.4822 | test accuracy: 0.97\n",
      "Epoch:  0 | train loss: 1.4768 | test accuracy: 0.97\n",
      "Epoch:  0 | train loss: 1.4980 | test accuracy: 0.97\n",
      "Epoch:  1 | train loss: 1.4847 | test accuracy: 0.97\n",
      "Epoch:  1 | train loss: 1.4785 | test accuracy: 0.97\n",
      "Epoch:  1 | train loss: 1.4891 | test accuracy: 0.97\n",
      "Epoch:  1 | train loss: 1.4894 | test accuracy: 0.98\n",
      "Epoch:  1 | train loss: 1.4710 | test accuracy: 0.98\n",
      "Epoch:  1 | train loss: 1.4821 | test accuracy: 0.98\n",
      "Epoch:  1 | train loss: 1.4841 | test accuracy: 0.97\n",
      "Epoch:  1 | train loss: 1.4658 | test accuracy: 0.98\n",
      "Epoch:  1 | train loss: 1.4899 | test accuracy: 0.98\n",
      "Epoch:  1 | train loss: 1.4927 | test accuracy: 0.96\n",
      "Epoch:  1 | train loss: 1.4802 | test accuracy: 0.98\n",
      "Epoch:  1 | train loss: 1.4966 | test accuracy: 0.98\n",
      "learning rate : 0.001\n",
      "batch size : 100\n",
      "EPOCH : 2\n",
      "final_test_accuracy : 0.9785\n",
      "final_train_accuracy : 1.0\n"
     ]
    }
   ],
   "source": [
    "cnn = CNN()\n",
    "# optimize all cnn parameters\n",
    "opti = torch.optim.Adam(cnn.parameters(), lr=learning_rate)\n",
    "loss_func = nn.CrossEntropyLoss()\n",
    "\n",
    "# training and testing\n",
    "for epoch in range(EPOCH):\n",
    "    for step, (train_x, train_y) in enumerate(train_loader):   # batch data\n",
    "\n",
    "        output = cnn(train_x)               # cnn output\n",
    "        loss = loss_func(output, train_y)   # cross entropy loss\n",
    "        opti.zero_grad()                    # clear gradients for this training step\n",
    "        loss.backward()                     # backpropagation\n",
    "        opti.step()                         # apply gradients\n",
    "\n",
    "        if step % 50 == 0:\n",
    "            test_output = cnn(test_x)\n",
    "            pred_y = torch.max(test_output, 1)[1].data.numpy()\n",
    "            accuracy = float((pred_y == test_y.data.numpy()).astype(\n",
    "                int).sum()) / float(test_y.size(0))\n",
    "            print('Epoch: ', epoch, '| train loss: %.4f' %\n",
    "                  loss.data.numpy(), '| test accuracy: %.2f' % accuracy)\n",
    "\n",
    "\n",
    "# final accuracy\n",
    "train_output = cnn(train_x)\n",
    "pred_y = torch.max(train_output, 1)[1].data.numpy()\n",
    "train_accuracy = float((pred_y == train_y.data.numpy()).astype(\n",
    "    int).sum()) / float(train_y.size(0))\n",
    "test_output = cnn(test_x)\n",
    "pred_y = torch.max(test_output, 1)[1].data.numpy()\n",
    "test_accuracy = float((pred_y == test_y.data.numpy()).astype(\n",
    "    int).sum()) / float(test_y.size(0))\n",
    "print('learning rate : '+str(learning_rate))\n",
    "print('batch size : '+str(BATCH_SIZE))\n",
    "print('EPOCH : '+str(EPOCH))\n",
    "print('final_test_accuracy : '+str(test_accuracy))\n",
    "print('final_train_accuracy : '+str(train_accuracy))\n"
   ]
  },
  {
   "cell_type": "markdown",
   "metadata": {},
   "source": [
    "**Parameters**<br>\n",
    "EPOCH = 2<br>\n",
    "BATCH_SIZE = 100<br>\n",
    "learning_rate = 0.001<br>"
   ]
  },
  {
   "cell_type": "markdown",
   "metadata": {},
   "source": []
  }
 ],
 "metadata": {
  "kernelspec": {
   "display_name": "Python 3 (ipykernel)",
   "language": "python",
   "name": "python3"
  },
  "language_info": {
   "codemirror_mode": {
    "name": "ipython",
    "version": 3
   },
   "file_extension": ".py",
   "mimetype": "text/x-python",
   "name": "python",
   "nbconvert_exporter": "python",
   "pygments_lexer": "ipython3",
   "version": "3.8.10"
  },
  "vscode": {
   "interpreter": {
    "hash": "beecf583209b3beedc5499f245e6360d2f28ceb4b9ddb20b2d2976ea11fc4832"
   }
  }
 },
 "nbformat": 4,
 "nbformat_minor": 4
}
